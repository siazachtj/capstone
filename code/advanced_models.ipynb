{
 "cells": [
  {
   "cell_type": "code",
   "execution_count": 1,
   "id": "041fc659",
   "metadata": {
    "_cell_guid": "b1076dfc-b9ad-4769-8c92-a6c4dae69d19",
    "_uuid": "8f2839f25d086af736a60e9eeb907d3b93b6e0e5",
    "execution": {
     "iopub.execute_input": "2023-02-27T05:02:10.634425Z",
     "iopub.status.busy": "2023-02-27T05:02:10.633935Z",
     "iopub.status.idle": "2023-02-27T05:02:12.023232Z",
     "shell.execute_reply": "2023-02-27T05:02:12.022074Z"
    },
    "papermill": {
     "duration": 1.404289,
     "end_time": "2023-02-27T05:02:12.026478",
     "exception": false,
     "start_time": "2023-02-27T05:02:10.622189",
     "status": "completed"
    },
    "tags": []
   },
   "outputs": [
    {
     "name": "stdout",
     "output_type": "stream",
     "text": [
      "/kaggle/input/user-ratings/user_ratings.csv\n",
      "/kaggle/input/games-after-2010/games_after_2010.csv\n"
     ]
    }
   ],
   "source": [
    "# This Python 3 environment comes with many helpful analytics libraries installed\n",
    "# It is defined by the kaggle/python Docker image: https://github.com/kaggle/docker-python\n",
    "# For example, here's several helpful packages to load\n",
    "\n",
    "import numpy as np # linear algebra\n",
    "import pandas as pd # data processing, CSV file I/O (e.g. pd.read_csv)\n",
    "import polars as pl\n",
    "import seaborn as sns\n",
    "from sklearn.model_selection import train_test_split\n",
    "# Input data files are available in the read-only \"../input/\" directory\n",
    "# For example, running this (by clicking run or pressing Shift+Enter) will list all files under the input directory\n",
    "import matplotlib.pyplot as plt\n",
    "import tqdm \n",
    "import os\n",
    "from surprise import Dataset, Reader, accuracy\n",
    "from surprise.model_selection import cross_validate, KFold, GridSearchCV\n",
    "from surprise import NormalPredictor, BaselineOnly, KNNBasic, KNNWithMeans, KNNWithZScore, KNNBaseline, SVD, NMF, SlopeOne, CoClustering    \n",
    "# You can write up to 20GB to the current directory (/kaggle/working/) that gets preserved as output when you create a version using \"Save & Run All\" \n",
    "# You can also write temporary files to /kaggle/temp/, but they won't be saved outside of the current session"
   ]
  },
  {
   "cell_type": "code",
   "execution_count": 2,
   "id": "4f4608c2",
   "metadata": {
    "execution": {
     "iopub.execute_input": "2023-02-27T05:02:12.046388Z",
     "iopub.status.busy": "2023-02-27T05:02:12.046069Z",
     "iopub.status.idle": "2023-02-27T05:02:17.963014Z",
     "shell.execute_reply": "2023-02-27T05:02:17.961881Z"
    },
    "papermill": {
     "duration": 5.929475,
     "end_time": "2023-02-27T05:02:17.965657",
     "exception": false,
     "start_time": "2023-02-27T05:02:12.036182",
     "status": "completed"
    },
    "tags": []
   },
   "outputs": [],
   "source": [
    "with open('..data/data_for_model/data_for_model.pkl', 'rb') as f:\n",
    "    # Load the contents of the file using pickle.load()\n",
    "    data_for_model = pickle.load(f)"
   ]
  },
  {
   "cell_type": "markdown",
   "id": "55a80c74-0cb3-4dac-aafe-c9e5979e5c47",
   "metadata": {},
   "source": [
    "Using the recommended metrics by scikit suprise, we will be using recall@k and precision@k to compute the performance of our model. Precision is essentially how many of our predictions our model gave us that we deemed to be relevant to our user in our top 'k' recommendations. Recall is essentially how many of the predictions our model gave out of all relevant items in our top 'k' recommendations, essentially the variability of our recommendation when looking at all relevant recommendations as a whole.\n",
    "\n",
    "In our specific use case our threshold would be 7.5 and our k will be set to 10.\n",
    "\n",
    "Refer to the following [link](https://medium.com/@m_n_malaeb/recall-and-precision-at-k-for-recommender-systems-618483226c54) for a more detailed explanation."
   ]
  },
  {
   "cell_type": "code",
   "execution_count": 32,
   "id": "5ec52bf7",
   "metadata": {
    "execution": {
     "iopub.execute_input": "2023-02-27T05:02:32.959325Z",
     "iopub.status.busy": "2023-02-27T05:02:32.959022Z",
     "iopub.status.idle": "2023-02-27T05:02:32.964509Z",
     "shell.execute_reply": "2023-02-27T05:02:32.963413Z"
    },
    "papermill": {
     "duration": 0.020147,
     "end_time": "2023-02-27T05:02:32.966861",
     "exception": false,
     "start_time": "2023-02-27T05:02:32.946714",
     "status": "completed"
    },
    "tags": []
   },
   "outputs": [],
   "source": [
    "algos = [('SVD', SVD(random_state=42)),\n",
    "    ('NonNegative Matrix Factorization', NMF(random_state=42)),\n",
    "    ('Slope One', SlopeOne()),\n",
    "    ('Co-clustering', CoClustering(random_state=42))]"
   ]
  },
  {
   "cell_type": "code",
   "execution_count": 35,
   "id": "2d282030",
   "metadata": {
    "execution": {
     "iopub.execute_input": "2023-02-27T05:02:33.059745Z",
     "iopub.status.busy": "2023-02-27T05:02:33.058937Z",
     "iopub.status.idle": "2023-02-27T05:02:34.350341Z",
     "shell.execute_reply": "2023-02-27T05:02:34.349215Z"
    },
    "papermill": {
     "duration": 1.306151,
     "end_time": "2023-02-27T05:02:34.352918",
     "exception": false,
     "start_time": "2023-02-27T05:02:33.046767",
     "status": "completed"
    },
    "tags": []
   },
   "outputs": [],
   "source": [
    "reader = Reader(rating_scale=(1, 10))\n",
    "data = Dataset.load_from_df(data_for_model[['Username','BGGId', 'Rating']],reader)"
   ]
  },
  {
   "cell_type": "code",
   "execution_count": 38,
   "id": "1d0b4b71",
   "metadata": {
    "execution": {
     "iopub.execute_input": "2023-02-27T05:02:34.442397Z",
     "iopub.status.busy": "2023-02-27T05:02:34.441503Z",
     "iopub.status.idle": "2023-02-27T05:02:34.451058Z",
     "shell.execute_reply": "2023-02-27T05:02:34.450121Z"
    },
    "papermill": {
     "duration": 0.024169,
     "end_time": "2023-02-27T05:02:34.453204",
     "exception": false,
     "start_time": "2023-02-27T05:02:34.429035",
     "status": "completed"
    },
    "tags": []
   },
   "outputs": [],
   "source": [
    "from collections import defaultdict\n",
    "\n",
    "from surprise import Dataset, SVD\n",
    "from surprise.model_selection import KFold\n",
    "\n",
    "\n",
    "def precision_recall_at_k(predictions, k=10, threshold=5):\n",
    "    \"\"\"Return precision and recall at k metrics for each user\"\"\"\n",
    "\n",
    "    # First map the predictions to each user.\n",
    "    user_est_true = defaultdict(list)\n",
    "    for uid, _, true_r, est, _ in predictions:\n",
    "        user_est_true[uid].append((est, true_r))\n",
    "\n",
    "    precisions = dict()\n",
    "    recalls = dict()\n",
    "    for uid, user_ratings in user_est_true.items():\n",
    "\n",
    "        # Sort user ratings by estimated value\n",
    "        user_ratings.sort(key=lambda x: x[0], reverse=True)\n",
    "\n",
    "        # Number of relevant items\n",
    "        n_rel = sum((true_r >= threshold) for (_, true_r) in user_ratings)\n",
    "\n",
    "        # Number of recommended items in top k\n",
    "        n_rec_k = sum((est >= threshold) for (est, _) in user_ratings[:k])\n",
    "\n",
    "        # Number of relevant and recommended items in top k\n",
    "        n_rel_and_rec_k = sum(\n",
    "            ((true_r >= threshold) and (est >= threshold))\n",
    "            for (est, true_r) in user_ratings[:k]\n",
    "        )\n",
    "\n",
    "        # Precision@K: Proportion of recommended items that are relevant\n",
    "        # When n_rec_k is 0, Precision is undefined. We here set it to 0.\n",
    "\n",
    "        precisions[uid] = n_rel_and_rec_k / n_rec_k if n_rec_k != 0 else 0\n",
    "\n",
    "        # Recall@K: Proportion of relevant items that are recommended\n",
    "        # When n_rel is 0, Recall is undefined. We here set it to 0.\n",
    "\n",
    "        recalls[uid] = n_rel_and_rec_k / n_rel if n_rel != 0 else 0\n",
    "\n",
    "    return precisions, recalls\n",
    "\n"
   ]
  },
  {
   "cell_type": "markdown",
   "id": "893b05c8-1690-4c96-ae93-613add88b88f",
   "metadata": {},
   "source": [
    "We used a 5 fold cross validation to train and test our model to determine the metrics we want including our loss (RMSE)."
   ]
  },
  {
   "cell_type": "code",
   "execution_count": 41,
   "id": "3a0d37e1",
   "metadata": {
    "execution": {
     "iopub.execute_input": "2023-02-27T05:02:34.562968Z",
     "iopub.status.busy": "2023-02-27T05:02:34.562005Z",
     "iopub.status.idle": "2023-02-27T06:31:39.484612Z",
     "shell.execute_reply": "2023-02-27T06:31:39.479958Z"
    },
    "papermill": {
     "duration": 5344.947818,
     "end_time": "2023-02-27T06:31:39.497214",
     "exception": false,
     "start_time": "2023-02-27T05:02:34.549396",
     "status": "completed"
    },
    "tags": []
   },
   "outputs": [
    {
     "name": "stdout",
     "output_type": "stream",
     "text": [
      "Evaluating RMSE, MAE of algorithm SVD on 5 split(s).\n",
      "\n",
      "                  Fold 1  Fold 2  Fold 3  Fold 4  Fold 5  Mean    Std     \n",
      "RMSE (testset)    1.0204  1.0215  1.0225  1.0218  1.0207  1.0214  0.0008  \n",
      "MAE (testset)     0.7584  0.7592  0.7586  0.7583  0.7579  0.7585  0.0004  \n",
      "Fit time          48.92   49.68   50.04   49.64   49.96   49.65   0.40    \n",
      "Test time         1.80    2.29    1.89    1.78    1.79    1.91    0.19    \n",
      "Evaluating RMSE, MAE of algorithm SVD on 5 split(s).\n",
      "\n",
      "                  Fold 1  Fold 2  Fold 3  Fold 4  Fold 5  Mean    Std     \n",
      "RMSE (testset)    1.0217  1.0165  1.0219  1.0216  1.0207  1.0205  0.0020  \n",
      "MAE (testset)     0.7584  0.7560  0.7588  0.7590  0.7579  0.7580  0.0011  \n",
      "Fit time          49.00   49.59   49.81   49.38   49.10   49.38   0.30    \n",
      "Test time         1.91    2.25    1.79    1.79    2.25    2.00    0.21    \n",
      "Evaluating RMSE, MAE of algorithm SVD on 5 split(s).\n",
      "\n",
      "                  Fold 1  Fold 2  Fold 3  Fold 4  Fold 5  Mean    Std     \n",
      "RMSE (testset)    1.0190  1.0206  1.0206  1.0211  1.0205  1.0204  0.0007  \n",
      "MAE (testset)     0.7573  0.7582  0.7588  0.7579  0.7586  0.7582  0.0006  \n",
      "Fit time          49.66   49.18   49.65   49.61   49.51   49.52   0.18    \n",
      "Test time         2.00    2.25    1.77    1.83    1.78    1.93    0.18    \n",
      "Evaluating RMSE, MAE of algorithm SVD on 5 split(s).\n",
      "\n",
      "                  Fold 1  Fold 2  Fold 3  Fold 4  Fold 5  Mean    Std     \n",
      "RMSE (testset)    1.0210  1.0229  1.0189  1.0183  1.0192  1.0201  0.0017  \n",
      "MAE (testset)     0.7588  0.7593  0.7573  0.7563  0.7573  0.7578  0.0011  \n",
      "Fit time          49.37   49.47   49.39   49.60   49.26   49.42   0.11    \n",
      "Test time         1.93    2.48    1.79    1.83    1.96    2.00    0.25    \n",
      "Evaluating RMSE, MAE of algorithm SVD on 5 split(s).\n",
      "\n",
      "                  Fold 1  Fold 2  Fold 3  Fold 4  Fold 5  Mean    Std     \n",
      "RMSE (testset)    1.0181  1.0234  1.0226  1.0172  1.0191  1.0201  0.0025  \n",
      "MAE (testset)     0.7565  0.7602  0.7591  0.7554  0.7569  0.7576  0.0018  \n",
      "Fit time          49.55   50.02   49.05   49.44   49.58   49.53   0.31    \n",
      "Test time         1.81    2.43    1.93    1.75    2.22    2.03    0.26    \n",
      "Evaluating RMSE, MAE of algorithm NMF on 5 split(s).\n",
      "\n",
      "                  Fold 1  Fold 2  Fold 3  Fold 4  Fold 5  Mean    Std     \n",
      "RMSE (testset)    1.7833  1.7861  1.7820  1.7836  1.7873  1.7845  0.0020  \n",
      "MAE (testset)     1.5663  1.5689  1.5663  1.5673  1.5709  1.5679  0.0018  \n",
      "Fit time          55.60   54.38   54.74   55.17   54.79   54.93   0.42    \n",
      "Test time         2.51    1.73    1.71    2.27    1.90    2.02    0.31    \n",
      "Evaluating RMSE, MAE of algorithm NMF on 5 split(s).\n",
      "\n",
      "                  Fold 1  Fold 2  Fold 3  Fold 4  Fold 5  Mean    Std     \n",
      "RMSE (testset)    1.7935  1.7717  1.7716  1.7711  1.7771  1.7770  0.0085  \n",
      "MAE (testset)     1.5777  1.5555  1.5558  1.5553  1.5586  1.5606  0.0086  \n",
      "Fit time          55.51   55.52   54.78   54.76   55.85   55.29   0.44    \n",
      "Test time         2.35    1.72    1.72    2.31    1.72    1.97    0.30    \n",
      "Evaluating RMSE, MAE of algorithm NMF on 5 split(s).\n",
      "\n",
      "                  Fold 1  Fold 2  Fold 3  Fold 4  Fold 5  Mean    Std     \n",
      "RMSE (testset)    1.7818  1.7926  1.7887  1.7891  1.7907  1.7886  0.0037  \n",
      "MAE (testset)     1.5653  1.5769  1.5731  1.5729  1.5731  1.5723  0.0038  \n",
      "Fit time          55.82   54.88   55.01   54.30   55.18   55.04   0.49    \n",
      "Test time         1.88    1.77    1.71    2.99    1.74    2.02    0.49    \n",
      "Evaluating RMSE, MAE of algorithm NMF on 5 split(s).\n",
      "\n",
      "                  Fold 1  Fold 2  Fold 3  Fold 4  Fold 5  Mean    Std     \n",
      "RMSE (testset)    1.7805  1.7850  1.7929  1.7887  1.7887  1.7872  0.0042  \n",
      "MAE (testset)     1.5641  1.5690  1.5759  1.5736  1.5725  1.5710  0.0041  \n",
      "Fit time          55.49   55.02   54.94   55.24   55.89   55.32   0.35    \n",
      "Test time         2.28    1.72    2.49    1.72    1.76    2.00    0.33    \n",
      "Evaluating RMSE, MAE of algorithm NMF on 5 split(s).\n",
      "\n",
      "                  Fold 1  Fold 2  Fold 3  Fold 4  Fold 5  Mean    Std     \n",
      "RMSE (testset)    1.7858  1.7913  1.7851  1.7821  1.7829  1.7854  0.0032  \n",
      "MAE (testset)     1.5697  1.5746  1.5686  1.5668  1.5667  1.5693  0.0029  \n",
      "Fit time          55.27   55.04   55.08   54.88   55.92   55.24   0.36    \n",
      "Test time         2.29    1.77    1.75    1.75    1.93    1.90    0.21    \n"
     ]
    },
    {
     "name": "stderr",
     "output_type": "stream",
     "text": [
      "/opt/conda/lib/python3.7/site-packages/ipykernel_launcher.py:11: DeprecationWarning: `np.int` is a deprecated alias for the builtin `int`. To silence this warning, use `int` by itself. Doing this will not modify any behavior and is safe. When replacing `np.int`, you may wish to use e.g. `np.int64` or `np.int32` to specify the precision. If you wish to review your current use, check the release note link for additional information.\n",
      "Deprecated in NumPy 1.20; for more details and guidance: https://numpy.org/devdocs/release/1.20.0-notes.html#deprecations\n",
      "  # This is added back by InteractiveShellApp.init_path()\n"
     ]
    },
    {
     "name": "stdout",
     "output_type": "stream",
     "text": [
      "Evaluating RMSE, MAE of algorithm SlopeOne on 5 split(s).\n",
      "\n",
      "                  Fold 1  Fold 2  Fold 3  Fold 4  Fold 5  Mean    Std     \n",
      "RMSE (testset)    1.0183  1.0179  1.0155  1.0178  1.0177  1.0174  0.0010  \n",
      "MAE (testset)     0.7587  0.7587  0.7586  0.7593  0.7579  0.7587  0.0004  \n",
      "Fit time          9.73    9.66    9.68    9.95    9.98    9.80    0.14    \n",
      "Test time         29.90   29.31   30.04   28.69   29.61   29.51   0.48    \n",
      "Evaluating RMSE, MAE of algorithm SlopeOne on 5 split(s).\n",
      "\n",
      "                  Fold 1  Fold 2  Fold 3  Fold 4  Fold 5  Mean    Std     \n",
      "RMSE (testset)    1.0181  1.0210  1.0157  1.0142  1.0186  1.0176  0.0024  \n",
      "MAE (testset)     0.7592  0.7608  0.7569  0.7575  0.7590  0.7587  0.0014  \n",
      "Fit time          9.52    9.96    9.88    9.76    10.03   9.83    0.18    \n",
      "Test time         29.29   29.17   29.89   29.37   29.08   29.36   0.28    \n",
      "Evaluating RMSE, MAE of algorithm SlopeOne on 5 split(s).\n",
      "\n",
      "                  Fold 1  Fold 2  Fold 3  Fold 4  Fold 5  Mean    Std     \n",
      "RMSE (testset)    1.0149  1.0183  1.0201  1.0175  1.0162  1.0174  0.0018  \n",
      "MAE (testset)     0.7571  0.7585  0.7604  0.7590  0.7582  0.7586  0.0011  \n",
      "Fit time          9.47    10.18   9.81    9.89    10.21   9.91    0.27    \n",
      "Test time         29.71   29.58   29.96   29.11   29.38   29.55   0.29    \n",
      "Evaluating RMSE, MAE of algorithm SlopeOne on 5 split(s).\n",
      "\n",
      "                  Fold 1  Fold 2  Fold 3  Fold 4  Fold 5  Mean    Std     \n",
      "RMSE (testset)    1.0179  1.0165  1.0177  1.0212  1.0147  1.0176  0.0021  \n",
      "MAE (testset)     0.7594  0.7584  0.7583  0.7600  0.7574  0.7587  0.0009  \n",
      "Fit time          9.50    9.75    10.22   9.82    9.95    9.85    0.24    \n",
      "Test time         29.29   29.10   30.14   29.44   29.32   29.46   0.36    \n",
      "Evaluating RMSE, MAE of algorithm SlopeOne on 5 split(s).\n",
      "\n",
      "                  Fold 1  Fold 2  Fold 3  Fold 4  Fold 5  Mean    Std     \n",
      "RMSE (testset)    1.0201  1.0180  1.0146  1.0147  1.0204  1.0176  0.0025  \n",
      "MAE (testset)     0.7602  0.7595  0.7568  0.7574  0.7602  0.7588  0.0014  \n",
      "Fit time          9.68    9.75    10.11   9.45    9.86    9.77    0.22    \n",
      "Test time         30.25   29.31   29.89   28.87   29.30   29.52   0.49    \n",
      "Evaluating RMSE, MAE of algorithm CoClustering on 5 split(s).\n",
      "\n",
      "                  Fold 1  Fold 2  Fold 3  Fold 4  Fold 5  Mean    Std     \n",
      "RMSE (testset)    1.0499  1.0480  1.0426  1.0446  1.0441  1.0458  0.0027  \n",
      "MAE (testset)     0.7939  0.7929  0.7883  0.7901  0.7906  0.7912  0.0020  \n",
      "Fit time          20.66   20.31   20.86   20.73   20.84   20.68   0.20    \n",
      "Test time         2.39    2.12    1.67    2.55    1.67    2.08    0.36    \n",
      "Evaluating RMSE, MAE of algorithm CoClustering on 5 split(s).\n",
      "\n",
      "                  Fold 1  Fold 2  Fold 3  Fold 4  Fold 5  Mean    Std     \n",
      "RMSE (testset)    1.0477  1.0449  1.0450  1.0458  1.0512  1.0469  0.0024  \n",
      "MAE (testset)     0.7938  0.7904  0.7913  0.7912  0.7962  0.7926  0.0021  \n",
      "Fit time          20.25   20.89   20.90   20.83   20.71   20.72   0.24    \n",
      "Test time         2.42    1.73    1.76    2.37    2.03    2.06    0.29    \n",
      "Evaluating RMSE, MAE of algorithm CoClustering on 5 split(s).\n",
      "\n",
      "                  Fold 1  Fold 2  Fold 3  Fold 4  Fold 5  Mean    Std     \n",
      "RMSE (testset)    1.0450  1.0474  1.0475  1.0439  1.0455  1.0459  0.0014  \n",
      "MAE (testset)     0.7908  0.7928  0.7938  0.7904  0.7905  0.7917  0.0014  \n",
      "Fit time          20.60   20.84   21.05   20.67   21.23   20.88   0.24    \n",
      "Test time         1.84    1.68    2.40    1.69    1.90    1.90    0.26    \n",
      "Evaluating RMSE, MAE of algorithm CoClustering on 5 split(s).\n",
      "\n",
      "                  Fold 1  Fold 2  Fold 3  Fold 4  Fold 5  Mean    Std     \n",
      "RMSE (testset)    1.0452  1.0458  1.0413  1.0482  1.0437  1.0448  0.0023  \n",
      "MAE (testset)     0.7905  0.7913  0.7873  0.7932  0.7902  0.7905  0.0019  \n",
      "Fit time          20.74   20.40   20.65   20.69   21.02   20.70   0.20    \n",
      "Test time         2.41    2.06    1.65    2.60    1.66    2.08    0.38    \n",
      "Evaluating RMSE, MAE of algorithm CoClustering on 5 split(s).\n",
      "\n",
      "                  Fold 1  Fold 2  Fold 3  Fold 4  Fold 5  Mean    Std     \n",
      "RMSE (testset)    1.0427  1.0490  1.0481  1.0418  1.0426  1.0448  0.0030  \n",
      "MAE (testset)     0.7901  0.7927  0.7924  0.7878  0.7895  0.7905  0.0019  \n",
      "Fit time          20.45   20.94   20.99   20.84   20.89   20.82   0.19    \n",
      "Test time         1.69    1.88    2.41    1.65    1.98    1.92    0.27    \n"
     ]
    }
   ],
   "source": [
    "# # # # #############really need to sort this out ####################\n",
    "precs_list = []\n",
    "recalls_list = []\n",
    "kf = KFold(n_splits=5,random_state=42)\n",
    "result_all = []\n",
    "for var_name,model in algos:\n",
    "    temp_prec_list = []\n",
    "    temp_recall_list = []\n",
    "    for trainset, testset in kf.split(data):\n",
    "        temp_result= []\n",
    "        model.fit(trainset)\n",
    "        predictions = model.test(testset)\n",
    "        precisions, recalls = precision_recall_at_k(predictions, k=10, threshold=7.5)\n",
    "        result = cross_validate(model,data,measures=['RMSE','MAE'],cv=5,verbose=True)\n",
    "        temp_result.append(result['test_rmse'].mean())\n",
    "        result_all.append((var_name,temp_result))\n",
    "    # Precision and recall can then be averaged over all users\n",
    "        temp_prec_list.append(sum(prec for prec in precisions.values()) / len(precisions))\n",
    "        temp_recall_list.append(sum(rec for rec in recalls.values()) / len(recalls))\n",
    "    precs_list.append((var_name,np.mean(temp_prec_list)))\n",
    "    recalls_list.append((var_name,np.mean(temp_recall_list)))\n",
    "    "
   ]
  },
  {
   "cell_type": "code",
   "execution_count": 42,
   "id": "0464fbd9",
   "metadata": {
    "execution": {
     "iopub.execute_input": "2023-02-27T06:31:39.524768Z",
     "iopub.status.busy": "2023-02-27T06:31:39.524417Z",
     "iopub.status.idle": "2023-02-27T06:31:39.531162Z",
     "shell.execute_reply": "2023-02-27T06:31:39.530061Z"
    },
    "papermill": {
     "duration": 0.024187,
     "end_time": "2023-02-27T06:31:39.534448",
     "exception": false,
     "start_time": "2023-02-27T06:31:39.510261",
     "status": "completed"
    },
    "tags": []
   },
   "outputs": [
    {
     "data": {
      "text/plain": [
       "[('SVD', 0.3900891080143896),\n",
       " ('NonNegative Matrix Factorization', 0.009557127975592088),\n",
       " ('Slope One', 0.3605168296879965),\n",
       " ('Co-clustering', 0.33374577517382936)]"
      ]
     },
     "execution_count": 42,
     "metadata": {},
     "output_type": "execute_result"
    }
   ],
   "source": [
    "recalls_list"
   ]
  },
  {
   "cell_type": "code",
   "execution_count": 43,
   "id": "a6a57762",
   "metadata": {
    "execution": {
     "iopub.execute_input": "2023-02-27T06:31:39.561814Z",
     "iopub.status.busy": "2023-02-27T06:31:39.561495Z",
     "iopub.status.idle": "2023-02-27T06:31:39.567649Z",
     "shell.execute_reply": "2023-02-27T06:31:39.566656Z"
    },
    "papermill": {
     "duration": 0.022325,
     "end_time": "2023-02-27T06:31:39.569628",
     "exception": false,
     "start_time": "2023-02-27T06:31:39.547303",
     "status": "completed"
    },
    "tags": []
   },
   "outputs": [
    {
     "data": {
      "text/plain": [
       "[('SVD', 0.6981773132017087),\n",
       " ('NonNegative Matrix Factorization', 0.08749428313330752),\n",
       " ('Slope One', 0.679874590269719),\n",
       " ('Co-clustering', 0.6659222609369009)]"
      ]
     },
     "execution_count": 43,
     "metadata": {},
     "output_type": "execute_result"
    }
   ],
   "source": [
    "precs_list"
   ]
  },
  {
   "cell_type": "code",
   "execution_count": 44,
   "id": "3f836cff",
   "metadata": {
    "execution": {
     "iopub.execute_input": "2023-02-27T06:31:39.596860Z",
     "iopub.status.busy": "2023-02-27T06:31:39.596560Z",
     "iopub.status.idle": "2023-02-27T06:31:39.603790Z",
     "shell.execute_reply": "2023-02-27T06:31:39.602715Z"
    },
    "papermill": {
     "duration": 0.024628,
     "end_time": "2023-02-27T06:31:39.606974",
     "exception": false,
     "start_time": "2023-02-27T06:31:39.582346",
     "status": "completed"
    },
    "tags": []
   },
   "outputs": [
    {
     "data": {
      "text/plain": [
       "[('SVD', [1.0213712081874704]),\n",
       " ('SVD', [1.0204828673113941]),\n",
       " ('SVD', [1.0203655120368236]),\n",
       " ('SVD', [1.0200507047167389]),\n",
       " ('SVD', [1.0200749272648115]),\n",
       " ('NonNegative Matrix Factorization', [1.7844759821295415]),\n",
       " ('NonNegative Matrix Factorization', [1.777024081528765]),\n",
       " ('NonNegative Matrix Factorization', [1.7885889749663555]),\n",
       " ('NonNegative Matrix Factorization', [1.7871589997098034]),\n",
       " ('NonNegative Matrix Factorization', [1.785430450313568]),\n",
       " ('Slope One', [1.0174268302254594]),\n",
       " ('Slope One', [1.0175506091427093]),\n",
       " ('Slope One', [1.0174059117435126]),\n",
       " ('Slope One', [1.0175889050438958]),\n",
       " ('Slope One', [1.0175749963301826]),\n",
       " ('Co-clustering', [1.045843777282942]),\n",
       " ('Co-clustering', [1.0469009270176166]),\n",
       " ('Co-clustering', [1.045874629570217]),\n",
       " ('Co-clustering', [1.0448459966189174]),\n",
       " ('Co-clustering', [1.0448217456155375])]"
      ]
     },
     "execution_count": 44,
     "metadata": {},
     "output_type": "execute_result"
    }
   ],
   "source": [
    "result_all"
   ]
  },
  {
   "cell_type": "code",
   "execution_count": 45,
   "id": "cedf0ecd",
   "metadata": {
    "execution": {
     "iopub.execute_input": "2023-02-27T06:31:39.634245Z",
     "iopub.status.busy": "2023-02-27T06:31:39.633764Z",
     "iopub.status.idle": "2023-02-27T06:31:39.639725Z",
     "shell.execute_reply": "2023-02-27T06:31:39.638836Z"
    },
    "papermill": {
     "duration": 0.022296,
     "end_time": "2023-02-27T06:31:39.642143",
     "exception": false,
     "start_time": "2023-02-27T06:31:39.619847",
     "status": "completed"
    },
    "tags": []
   },
   "outputs": [],
   "source": [
    "import pickle\n",
    "def pickle_lists(list_of_lists):\n",
    "    for i, sublist in enumerate(list_of_lists):\n",
    "        with open(f\"../data/pickled_advanced/{i}.pickle\", \"wb\") as f:\n",
    "            pickle.dump(sublist, f)"
   ]
  },
  {
   "cell_type": "code",
   "execution_count": 46,
   "id": "b60e8fb0",
   "metadata": {
    "execution": {
     "iopub.execute_input": "2023-02-27T06:31:39.669421Z",
     "iopub.status.busy": "2023-02-27T06:31:39.669143Z",
     "iopub.status.idle": "2023-02-27T06:31:39.674675Z",
     "shell.execute_reply": "2023-02-27T06:31:39.673750Z"
    },
    "papermill": {
     "duration": 0.021711,
     "end_time": "2023-02-27T06:31:39.676879",
     "exception": false,
     "start_time": "2023-02-27T06:31:39.655168",
     "status": "completed"
    },
    "tags": []
   },
   "outputs": [],
   "source": [
    "pickle_lists([recalls_list,precs_list,result_all])"
   ]
  },
  {
   "cell_type": "markdown",
   "id": "c44fe2b6-d7a1-4c85-a72c-188c202bbc14",
   "metadata": {},
   "source": [
    "## Conclusion"
   ]
  },
  {
   "cell_type": "markdown",
   "id": "3157f3c4-42ac-4b31-80a7-d4d8cf0d9658",
   "metadata": {},
   "source": [
    "Due to computational constraints(long run time and memory errors) our modelling and metrics will be done in seperate notebooks and the data was pickled for further examination in model_final notebook."
   ]
  }
 ],
 "metadata": {
  "kernelspec": {
   "display_name": "Python 3 (ipykernel)",
   "language": "python",
   "name": "python3"
  },
  "language_info": {
   "codemirror_mode": {
    "name": "ipython",
    "version": 3
   },
   "file_extension": ".py",
   "mimetype": "text/x-python",
   "name": "python",
   "nbconvert_exporter": "python",
   "pygments_lexer": "ipython3",
   "version": "3.8.13"
  },
  "papermill": {
   "default_parameters": {},
   "duration": 5380.646196,
   "end_time": "2023-02-27T06:31:42.319014",
   "environment_variables": {},
   "exception": null,
   "input_path": "__notebook__.ipynb",
   "output_path": "__notebook__.ipynb",
   "parameters": {},
   "start_time": "2023-02-27T05:02:01.672818",
   "version": "2.4.0"
  }
 },
 "nbformat": 4,
 "nbformat_minor": 5
}
